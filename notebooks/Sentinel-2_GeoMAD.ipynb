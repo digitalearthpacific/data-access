{
 "cells": [
  {
   "cell_type": "code",
   "execution_count": null,
   "id": "fbe74c38",
   "metadata": {},
   "outputs": [],
   "source": [
    "from pystac.client import Client\n",
    "from odc.stac import load"
   ]
  },
  {
   "cell_type": "code",
   "execution_count": null,
   "id": "1942b73a",
   "metadata": {},
   "outputs": [],
   "source": [
    "catalog_url = \"https://stac.digitalearthpacific.org\"\n",
    "collection = \"dep_s2_geomad\"\n",
    "\n",
    "# Bounding box over Fiji\n",
    "bbox = [178.4, -18.2, 178.6, -18.0]\n",
    "\n",
    "# Connect to the STAC catalog\n",
    "catalog = Client.open(catalog_url)\n",
    "\n",
    "# Search for items\n",
    "items = catalog.search(\n",
    "    collections=[collection],\n",
    "    bbox=bbox,\n",
    "    datetime=\"2024\",\n",
    ").item_collection()\n",
    "\n",
    "print(f\"Found {len(items)} items in the collection '{collection}'.\")"
   ]
  },
  {
   "cell_type": "code",
   "execution_count": null,
   "id": "dc06e957",
   "metadata": {},
   "outputs": [],
   "source": [
    "data = load(\n",
    "    items,\n",
    "    bbox=bbox,\n",
    "    bands=[\"red\", \"green\", \"blue\"],  # Red, Green, Blue bands\n",
    "    resolution=10,  # 10m resolution\n",
    "    chunks={\"time\": 1, \"y\": 2000, \"x\": 2000},  # Use dask to lazy load data\n",
    ")\n",
    "\n",
    "data"
   ]
  },
  {
   "cell_type": "code",
   "execution_count": null,
   "id": "b09bd5f5",
   "metadata": {},
   "outputs": [],
   "source": [
    "data.odc.explore(vmin=0000, vmax=3000)"
   ]
  }
 ],
 "metadata": {
  "kernelspec": {
   "display_name": "Python 3",
   "language": "python",
   "name": "python3"
  },
  "language_info": {
   "codemirror_mode": {
    "name": "ipython",
    "version": 3
   },
   "file_extension": ".py",
   "mimetype": "text/x-python",
   "name": "python",
   "nbconvert_exporter": "python",
   "pygments_lexer": "ipython3",
   "version": "3.11.11"
  }
 },
 "nbformat": 4,
 "nbformat_minor": 5
}
